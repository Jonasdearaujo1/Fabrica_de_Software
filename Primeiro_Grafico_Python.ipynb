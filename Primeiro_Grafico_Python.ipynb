{
 "cells": [
  {
   "cell_type": "code",
   "execution_count": 29,
   "id": "8c0df1a0",
   "metadata": {},
   "outputs": [
    {
     "data": {
      "text/html": [
       "<div>\n",
       "<style scoped>\n",
       "    .dataframe tbody tr th:only-of-type {\n",
       "        vertical-align: middle;\n",
       "    }\n",
       "\n",
       "    .dataframe tbody tr th {\n",
       "        vertical-align: top;\n",
       "    }\n",
       "\n",
       "    .dataframe thead th {\n",
       "        text-align: right;\n",
       "    }\n",
       "</style>\n",
       "<table border=\"1\" class=\"dataframe\">\n",
       "  <thead>\n",
       "    <tr style=\"text-align: right;\">\n",
       "      <th></th>\n",
       "      <th>Tournament</th>\n",
       "      <th>Matchday</th>\n",
       "      <th>Date</th>\n",
       "      <th>Venue</th>\n",
       "      <th>Club</th>\n",
       "      <th>Opponent</th>\n",
       "      <th>Result</th>\n",
       "      <th>Position</th>\n",
       "      <th>Minute</th>\n",
       "      <th>When Scored</th>\n",
       "      <th>Goal Type</th>\n",
       "      <th>Assist</th>\n",
       "    </tr>\n",
       "  </thead>\n",
       "  <tbody>\n",
       "    <tr>\n",
       "      <th>0</th>\n",
       "      <td>Liga Portugal</td>\n",
       "      <td>6</td>\n",
       "      <td>10/7/02</td>\n",
       "      <td>Home</td>\n",
       "      <td>Sporting CP</td>\n",
       "      <td>Moreirense FC</td>\n",
       "      <td>3:0</td>\n",
       "      <td>LW</td>\n",
       "      <td>34'</td>\n",
       "      <td>2:0</td>\n",
       "      <td>Solo run</td>\n",
       "      <td>Not Applicable</td>\n",
       "    </tr>\n",
       "    <tr>\n",
       "      <th>1</th>\n",
       "      <td>Liga Portugal</td>\n",
       "      <td>6</td>\n",
       "      <td>10/7/02</td>\n",
       "      <td>Home</td>\n",
       "      <td>Sporting CP</td>\n",
       "      <td>Moreirense FC</td>\n",
       "      <td>3:0</td>\n",
       "      <td>LW</td>\n",
       "      <td>90'+5</td>\n",
       "      <td>3:0</td>\n",
       "      <td>Header</td>\n",
       "      <td>Rui Jorge</td>\n",
       "    </tr>\n",
       "    <tr>\n",
       "      <th>2</th>\n",
       "      <td>Liga Portugal</td>\n",
       "      <td>8</td>\n",
       "      <td>10/26/02</td>\n",
       "      <td>Away</td>\n",
       "      <td>Sporting CP</td>\n",
       "      <td>Boavista FC</td>\n",
       "      <td>1:2</td>\n",
       "      <td>Not Applicable</td>\n",
       "      <td>88'</td>\n",
       "      <td>1:2</td>\n",
       "      <td>Right-footed shot</td>\n",
       "      <td>Carlos Martins</td>\n",
       "    </tr>\n",
       "    <tr>\n",
       "      <th>3</th>\n",
       "      <td>Taça de Portugal</td>\n",
       "      <td>Fourth Round</td>\n",
       "      <td>11/24/02</td>\n",
       "      <td>Home</td>\n",
       "      <td>Sporting CP</td>\n",
       "      <td>CD Estarreja</td>\n",
       "      <td>4:1</td>\n",
       "      <td>Not Applicable</td>\n",
       "      <td>67'</td>\n",
       "      <td>3:0</td>\n",
       "      <td>Left-footed shot</td>\n",
       "      <td>César Prates</td>\n",
       "    </tr>\n",
       "    <tr>\n",
       "      <th>4</th>\n",
       "      <td>Taça de Portugal</td>\n",
       "      <td>Fifth Round</td>\n",
       "      <td>12/18/02</td>\n",
       "      <td>Home</td>\n",
       "      <td>Sporting CP</td>\n",
       "      <td>FC Oliveira do Hospital</td>\n",
       "      <td>8:1</td>\n",
       "      <td>Not Applicable</td>\n",
       "      <td>13'</td>\n",
       "      <td>3:0</td>\n",
       "      <td>Not Applicable</td>\n",
       "      <td>Not Applicable</td>\n",
       "    </tr>\n",
       "    <tr>\n",
       "      <th>...</th>\n",
       "      <td>...</td>\n",
       "      <td>...</td>\n",
       "      <td>...</td>\n",
       "      <td>...</td>\n",
       "      <td>...</td>\n",
       "      <td>...</td>\n",
       "      <td>...</td>\n",
       "      <td>...</td>\n",
       "      <td>...</td>\n",
       "      <td>...</td>\n",
       "      <td>...</td>\n",
       "      <td>...</td>\n",
       "    </tr>\n",
       "    <tr>\n",
       "      <th>694</th>\n",
       "      <td>Premier League</td>\n",
       "      <td>33</td>\n",
       "      <td>4/16/22</td>\n",
       "      <td>Home</td>\n",
       "      <td>Manchester United</td>\n",
       "      <td>Norwich City</td>\n",
       "      <td>3:2</td>\n",
       "      <td>CF</td>\n",
       "      <td>76'</td>\n",
       "      <td>3:2</td>\n",
       "      <td>Direct free kick</td>\n",
       "      <td>Not Applicable</td>\n",
       "    </tr>\n",
       "    <tr>\n",
       "      <th>695</th>\n",
       "      <td>Premier League</td>\n",
       "      <td>34</td>\n",
       "      <td>4/23/22</td>\n",
       "      <td>Away</td>\n",
       "      <td>Manchester United</td>\n",
       "      <td>Arsenal FC</td>\n",
       "      <td>3:1</td>\n",
       "      <td>CF</td>\n",
       "      <td>34'</td>\n",
       "      <td>2:1</td>\n",
       "      <td>Left-footed shot</td>\n",
       "      <td>Nemanja Matić</td>\n",
       "    </tr>\n",
       "    <tr>\n",
       "      <th>696</th>\n",
       "      <td>Premier League</td>\n",
       "      <td>37</td>\n",
       "      <td>4/28/22</td>\n",
       "      <td>Home</td>\n",
       "      <td>Manchester United</td>\n",
       "      <td>Chelsea FC</td>\n",
       "      <td>1:1</td>\n",
       "      <td>CF</td>\n",
       "      <td>62'</td>\n",
       "      <td>1:1</td>\n",
       "      <td>Right-footed shot</td>\n",
       "      <td>Nemanja Matić</td>\n",
       "    </tr>\n",
       "    <tr>\n",
       "      <th>697</th>\n",
       "      <td>Premier League</td>\n",
       "      <td>35</td>\n",
       "      <td>5/2/22</td>\n",
       "      <td>Home</td>\n",
       "      <td>Manchester United</td>\n",
       "      <td>Brentford FC</td>\n",
       "      <td>3:0</td>\n",
       "      <td>CF</td>\n",
       "      <td>61'</td>\n",
       "      <td>2:0</td>\n",
       "      <td>Penalty</td>\n",
       "      <td>Not Applicable</td>\n",
       "    </tr>\n",
       "    <tr>\n",
       "      <th>698</th>\n",
       "      <td>Europa League</td>\n",
       "      <td>Group Stage</td>\n",
       "      <td>9/15/22</td>\n",
       "      <td>Away</td>\n",
       "      <td>Manchester United</td>\n",
       "      <td>FC Sheriff Tiraspol</td>\n",
       "      <td>0:2</td>\n",
       "      <td>CF</td>\n",
       "      <td>39'</td>\n",
       "      <td>0:2</td>\n",
       "      <td>Penalty</td>\n",
       "      <td>Not Applicable</td>\n",
       "    </tr>\n",
       "  </tbody>\n",
       "</table>\n",
       "<p>699 rows × 12 columns</p>\n",
       "</div>"
      ],
      "text/plain": [
       "            Tournament      Matchday      Date Venue               Club  \\\n",
       "0       Liga Portugal              6   10/7/02  Home        Sporting CP   \n",
       "1       Liga Portugal              6   10/7/02  Home        Sporting CP   \n",
       "2       Liga Portugal              8  10/26/02  Away        Sporting CP   \n",
       "3    Taça de Portugal   Fourth Round  11/24/02  Home        Sporting CP   \n",
       "4    Taça de Portugal    Fifth Round  12/18/02  Home        Sporting CP   \n",
       "..                 ...           ...       ...   ...                ...   \n",
       "694    Premier League             33   4/16/22  Home  Manchester United   \n",
       "695    Premier League             34   4/23/22  Away  Manchester United   \n",
       "696    Premier League             37   4/28/22  Home  Manchester United   \n",
       "697    Premier League             35    5/2/22  Home  Manchester United   \n",
       "698     Europa League    Group Stage   9/15/22  Away  Manchester United   \n",
       "\n",
       "                    Opponent Result        Position Minute When Scored  \\\n",
       "0              Moreirense FC    3:0              LW    34'         2:0   \n",
       "1              Moreirense FC    3:0              LW  90'+5         3:0   \n",
       "2                Boavista FC    1:2  Not Applicable    88'         1:2   \n",
       "3               CD Estarreja    4:1  Not Applicable    67'         3:0   \n",
       "4    FC Oliveira do Hospital    8:1  Not Applicable    13'         3:0   \n",
       "..                       ...    ...             ...    ...         ...   \n",
       "694             Norwich City    3:2              CF    76'         3:2   \n",
       "695               Arsenal FC    3:1              CF    34'         2:1   \n",
       "696               Chelsea FC    1:1              CF    62'         1:1   \n",
       "697             Brentford FC    3:0              CF    61'         2:0   \n",
       "698      FC Sheriff Tiraspol    0:2              CF    39'         0:2   \n",
       "\n",
       "             Goal Type          Assist  \n",
       "0             Solo run  Not Applicable  \n",
       "1               Header       Rui Jorge  \n",
       "2    Right-footed shot  Carlos Martins  \n",
       "3     Left-footed shot    César Prates  \n",
       "4       Not Applicable  Not Applicable  \n",
       "..                 ...             ...  \n",
       "694   Direct free kick  Not Applicable  \n",
       "695   Left-footed shot   Nemanja Matić  \n",
       "696  Right-footed shot   Nemanja Matić  \n",
       "697            Penalty  Not Applicable  \n",
       "698            Penalty  Not Applicable  \n",
       "\n",
       "[699 rows x 12 columns]"
      ]
     },
     "metadata": {},
     "output_type": "display_data"
    }
   ],
   "source": [
    "#Iniciando com a biblioteca pandas para buscar \n",
    "import pandas as pd\n",
    "\n",
    "Ronaldo_df = pd.read_csv('ronaldo.csv')#Arquivo buscado, Ronaldo.csv\n",
    "\n",
    "display(Ronaldo_df)#Amostrando o arquivo .csv\n"
   ]
  },
  {
   "cell_type": "code",
   "execution_count": 53,
   "id": "94b31596",
   "metadata": {},
   "outputs": [
    {
     "data": {
      "image/png": "[encoded data removed]",
      "text/plain": [
       "<Figure size 432x288 with 1 Axes>"
      ]
     },
     "metadata": {
      "needs_background": "light"
     },
     "output_type": "display_data"
    }
   ],
   "source": [
    "import matplotlib.pyplot as plt #Biblioteca Matplotlib ativa.\n",
    "plt.bar(Ronaldo_df['Club'], Ronaldo_df['Goal Type']) #Seleção das colunas.\n",
    "plt.show() #Mostrando o gráfico."
   ]
  },
  {
   "cell_type": "code",
   "execution_count": 55,
   "id": "fdf4224d",
   "metadata": {},
   "outputs": [
    {
     "data": {
      "image/png": "[encoded data removed]",
      "text/plain": [
       "<Figure size 432x288 with 1 Axes>"
      ]
     },
     "metadata": {
      "needs_background": "light"
     },
     "output_type": "display_data"
    }
   ],
   "source": [
    "import matplotlib.pyplot as plt #Biblioteca Matplotlib ativa.\n",
    "plt.bar(Ronaldo_df['Venue'], Ronaldo_df['Tournament']) #Seleção das colunas.\n",
    "plt.show() #Mostrando o gráfico."
   ]
  },
  {
   "cell_type": "code",
   "execution_count": 59,
   "id": "cc51886c",
   "metadata": {},
   "outputs": [
    {
     "data": {
      "application/vnd.plotly.v1+json": {
       "config": {
        "plotlyServerURL": "https://plot.ly"
       },
       "data": [
        {
         "alignmentgroup": "True",
         "hovertemplate": "Venue=%{x}<br>Tournament=%{y}<extra></extra>",
         "legendgroup": "",
         "marker": {
          "color": "#636efa",
          "pattern": {
           "shape": ""
          }
         },
         "name": "",
         "offsetgroup": "",
         "orientation": "v",
         "showlegend": false,
         "textposition": "auto",
         "type": "bar",
         "x": [
          "Home",
          "Home",
          "Away",
          "Home",
          "Home",
          "Home",
          "Home",
          "Home",
          "Away",
          "Away",
          "Home",
          "Home",
          "Away",
          "Home",
          "Away",
          "Away",
          "Away",
          "Away",
          "Home",
          "Away",
          "Home",
          "Away",
          "Home",
          "Home",
          "Home",
          "Home",
          "Home",
          "Away",
          "Away",
          "Home",
          "Away",
          "Home",
          "Home",
          "Away",
          "Away",
          "Home",
          "Home",
          "Home",
          "Away",
          "Away",
          "Home",
          "Home",
          "Home",
          "Home",
          "Home",
          "Home",
          "Away",
          "Away",
          "Away",
          "Home",
          "Home",
          "Home",
          "Away",
          "Home",
          "Away",
          "Away",
          "Away",
          "Home",
          "Home",
          "Away",
          "Away",
          "Away",
          "Home",
          "Home",
          "Home",
          "Home",
          "Home",
          "Home",
          "Home",
          "Home",
          "Home",
          "Away",
          "Away",
          "Away",
          "Home",
          "Home",
          "Home",
          "Away",
          "Home",
          "Home",
          "Home",
          "Home",
          "Away",
          "Away",
          "Home",
          "Away",
          "Home",
          "Home",
          "Home",
          "Home",
          "Away",
          "Away",
          "Home",
          "Home",
          "Home",
          "Away",
          "Home",
          "Home",
          "Home",
          "Home",
          "Home",
          "Home",
          "Home",
          "Home",
          "Home",
          "Home",
          "Away",
          "Home",
          "Away",
          "Away",
          "Home",
          "Away",
          "Home",
          "Home",
          "Home",
          "Home",
          "Home",
          "Away",
          "Home",
          "Home",
          "Away",
          "Away",
          "Home",
          "Home",
          "Away",
          "Away",
          "Away",
          "Home",
          "Home",
          "Away",
          "Home",
          "Home",
          "Home",
          "Away",
          "Away",
          "Home",
          "Home",
          "Home",
          "Away",
          "Away",
          "Home",
          "Away",
          "Home",
          "Home",
          "Away",
          "Away",
          "Away",
          "Away",
          "Away",
          "Home",
          "Home",
          "Home",
          "Away",
          "Away",
          "Away",
          "Home",
          "Home",
          "Home",
          "Home",
          "Away",
          "Away",
          "Home",
          "Home",
          "Home",
          "Home",
          "Home",
          "Away",
          "Away",
          "Home",
          "Home",
          "Home",
          "Home",
          "Away",
          "Away",
          "Home",
          "Home",
          "Home",
          "Away",
          "Home",
          "Home",
          "Home",
          "Away",
          "Away",
          "Home",
          "Home",
          "Home",
          "Home",
          "Away",
          "Home",
          "Home",
          "Home",
          "Home",
          "Home",
          "Home",
          "Away",
          "Away",
          "Home",
          "Away",
          "Away",
          "Away",
          "Away",
          "Away",
          "Home",
          "Home",
          "Home",
          "Away",
          "Away",
          "Home",
          "Home",
          "Away",
          "Away",
          "Away",
          "Away",
          "Home",
          "Home",
          "Home",
          "Home",
          "Home",
          "Away",
          "Away",
          "Away",
          "Away",
          "Away",
          "Home",
          "Home",
          "Home",
          "Away",
          "Home",
          "Home",
          "Away",
          "Away",
          "Away",
          "Away",
          "Away",
          "Home",
          "Home",
          "Home",
          "Home",
          "Away",
          "Home",
          "Home",
          "Home",
          "Home",
          "Home",
          "Away",
          "Away",
          "Home",
          "Away",
          "Away",
          "Home",
          "Home",
          "Away",
          "Home",
          "Home",
          "Away",
          "Away",
          "Home",
          "Home",
          "Away",
          "Away",
          "Away",
          "Home",
          "Away",
          "Home",
          "Home",
          "Home",
          "Away",
          "Away",
          "Home",
          "Away",
          "Home",
          "Home",
          "Home",
          "Home",
          "Away",
          "Home",
          "Home",
          "Home",
          "Away",
          "Away",
          "Away",
          "Away",
          "Away",
          "Home",
          "Away",
          "Away",
          "Away",
          "Away",
          "Home",
          "Home",
          "Away",
          "Home",
          "Home",
          "Home",
          "Home",
          "Home",
          "Home",
          "Away",
          "Away",
          "Home",
          "Home",
          "Home",
          "Home",
          "Home",
          "Home",
          "Home",
          "Away",
          "Away",
          "Away",
          "Away",
          "Away",
          "Home",
          "Away",
          "Home",
          "Home",
          "Away",
          "Away",
          "Away",
          "Away",
          "Away",
          "Home",
          "Home",
          "Home",
          "Away",
          "Home",
          "Away",
          "Away",
          "Away",
          "Away",
          "Home",
          "Home",
          "Away",
          "Away",
          "Home",
          "Home",
          "Away",
          "Home",
          "Home",
          "Home",
          "Home",
          "Home",
          "Home",
          "Away",
          "Away",
          "Away",
          "Home",
          "Home",
          "Home",
          "Away",
          "Away",
          "Away",
          "Home",
          "Home",
          "Away",
          "Away",
          "Home",
          "Away",
          "Away",
          "Away",
          "Away",
          "Away",
          "Home",
          "Away",
          "Home",
          "Home",
          "Home",
          "Away",
          "Home",
          "Home",
          "Home",
          "Home",
          "Away",
          "Away",
          "Home",
          "Home",
          "Home",
          "Home",
          "Home",
          "Home",
          "Home",
          "Away",
          "Away",
          "Away",
          "Home",
          "Home",
          "Home",
          "Home",
          "Away",
          "Away",
          "Home",
          "Home",
          "Home",
          "Away",
          "Away",
          "Away",
          "Home",
          "Away",
          "Home",
          "Away",
          "Away",
          "Away",
          "Home",
          "Home",
          "Home",
          "Home",
          "Away",
          "Away",
          "Away",
          "Home",
          "Away",
          "Away",
          "Away",
          "Away",
          "Home",
          "Home",
          "Home",
          "Away",
          "Home",
          "Home",
          "Home",
          "Home",
          "Home",
          "Away",
          "Home",
          "Home",
          "Away",
          "Away",
          "Away",
          "Away",
          "Home",
          "Away",
          "Away",
          "Away",
          "Home",
          "Home",
          "Home",
          "Away",
          "Away",
          "Away",
          "Away",
          "Away",
          "Home",
          "Home",
          "Home",
          "Away",
          "Away",
          "Home",
          "Away",
          "Home",
          "Away",
          "Away",
          "Away",
          "Home",
          "Home",
          "Home",
          "Home",
          "Home",
          "Home",
          "Home",
          "Home",
          "Home",
          "Home",
          "Home",
          "Home",
          "Home",
          "Home",
          "Home",
          "Home",
          "Away",
          "Away",
          "Away",
          "Home",
          "Home",
          "Home",
          "Home",
          "Home",
          "Home",
          "Away",
          "Home",
          "Home",
          "Home",
          "Home",
          "Away",
          "Home",
          "Home",
          "Away",
          "Away",
          "Home",
          "Home",
          "Away",
          "Away",
          "Away",
          "Away",
          "Away",
          "Away",
          "Away",
          "Away",
          "Home",
          "Home",
          "Away",
          "Home",
          "Home",
          "Home",
          "Home",
          "Away",
          "Away",
          "Home",
          "Away",
          "Away",
          "Away",
          "Home",
          "Home",
          "Home",
          "Away",
          "Away",
          "Home",
          "Home",
          "Home",
          "Home",
          "Home",
          "Home",
          "Home",
          "Home",
          "Home",
          "Away",
          "Away",
          "Away",
          "Away",
          "Away",
          "Away",
          "Home",
          "Home",
          "Away",
          "Away",
          "Away",
          "Home",
          "Away",
          "Away",
          "Away",
          "Home",
          "Home",
          "Home",
          "Home",
          "Away",
          "Home",
          "Home",
          "Home",
          "Away",
          "Away",
          "Home",
          "Home",
          "Home",
          "Home",
          "Home",
          "Away",
          "Home",
          "Home",
          "Home",
          "Home",
          "Away",
          "Away",
          "Away",
          "Home",
          "Home",
          "Home",
          "Home",
          "Away",
          "Away",
          "Home",
          "Home",
          "Home",
          "Away",
          "Away",
          "Home",
          "Home",
          "Away",
          "Away",
          "Home",
          "Away",
          "Away",
          "Home",
          "Away",
          "Home",
          "Away",
          "Away",
          "Away",
          "Home",
          "Home",
          "Home",
          "Away",
          "Home",
          "Home",
          "Away",
          "Home",
          "Home",
          "Home",
          "Home",
          "Away",
          "Home",
          "Away",
          "Home",
          "Home",
          "Home",
          "Home",
          "Home",
          "Home",
          "Home",
          "Home",
          "Away",
          "Away",
          "Home",
          "Home",
          "Away",
          "Home",
          "Home",
          "Home",
          "Away",
          "Home",
          "Home",
          "Home",
          "Away",
          "Home",
          "Home",
          "Away",
          "Away",
          "Away",
          "Away",
          "Home",
          "Away",
          "Home",
          "Away",
          "Home",
          "Home",
          "Home",
          "Home",
          "Home",
          "Home",
          "Home",
          "Home",
          "Away",
          "Away",
          "Away",
          "Away",
          "Away",
          "Home",
          "Home",
          "Home",
          "Home",
          "Away",
          "Away",
          "Away",
          "Away",
          "Away",
          "Away",
          "Home",
          "Home",
          "Home",
          "Home",
          "Away",
          "Away",
          "Home",
          "Home",
          "Home",
          "Away",
          "Home",
          "Away",
          "Away",
          "Away",
          "Away",
          "Home",
          "Away",
          "Away",
          "Away",
          "Home",
          "Home",
          "Home",
          "Away",
          "Away",
          "Home",
          "Home",
          "Away",
          "Away",
          "Away",
          "Away",
          "Home",
          "Home",
          "Away",
          "Home",
          "Home",
          "Home",
          "Home",
          "Home",
          "Home",
          "Home",
          "Home",
          "Away",
          "Home",
          "Home",
          "Away"
         ],
         "xaxis": "x",
         "y": [
          "Liga Portugal ",
          "Liga Portugal ",
          "Liga Portugal ",
          "Taça de Portugal ",
          "Taça de Portugal ",
          "Premier League ",
          "FA Cup ",
          "Premier League ",
          "Premier League ",
          "Premier League ",
          "FA Cup ",
          "Premier League ",
          "FA Cup ",
          "Premier League ",
          "Premier League ",
          "Premier League ",
          "FA Cup ",
          "FA Cup ",
          "Premier League ",
          "FA Cup ",
          "Champions League Qu. ",
          "Premier League ",
          "EFL Cup ",
          "Premier League ",
          "Premier League ",
          "Premier League ",
          "Premier League ",
          "Premier League ",
          "Premier League ",
          "EFL Cup ",
          "Premier League ",
          "Premier League ",
          "Premier League ",
          "Premier League ",
          "Premier League ",
          "Premier League ",
          "Premier League ",
          "Premier League ",
          "Premier League ",
          "Premier League ",
          "Premier League ",
          "Premier League ",
          "Premier League ",
          "Premier League ",
          "Premier League ",
          "Premier League ",
          "Premier League ",
          "Premier League ",
          "FA Cup ",
          "FA Cup ",
          "Champions League ",
          "Champions League ",
          "FA Cup ",
          "Champions League ",
          "Premier League ",
          "Champions League ",
          "Premier League ",
          "Premier League ",
          "Premier League ",
          "Champions League ",
          "Champions League ",
          "Premier League ",
          "Champions League ",
          "Premier League ",
          "Premier League ",
          "Champions League ",
          "Premier League ",
          "Premier League ",
          "Premier League ",
          "Premier League ",
          "Premier League ",
          "Premier League ",
          "Premier League ",
          "FA Cup ",
          "Premier League ",
          "Premier League ",
          "Premier League ",
          "Premier League ",
          "FA Cup ",
          "FA Cup ",
          "Premier League ",
          "Premier League ",
          "Premier League ",
          "Premier League ",
          "Champions League ",
          "Premier League ",
          "Premier League ",
          "Premier League ",
          "Premier League ",
          "Premier League ",
          "Champions League ",
          "Premier League ",
          "Premier League ",
          "Premier League ",
          "Premier League ",
          "Premier League ",
          "Champions League ",
          "EFL Cup ",
          "Premier League ",
          "Premier League ",
          "Premier League ",
          "Premier League ",
          "Premier League ",
          "Premier League ",
          "Premier League ",
          "Premier League ",
          "Club World Cup ",
          "EFL Cup ",
          "Premier League ",
          "Premier League ",
          "Premier League ",
          "FA Cup ",
          "Premier League ",
          "Champions League ",
          "Premier League ",
          "Premier League ",
          "Premier League ",
          "Champions League ",
          "Premier League ",
          "Premier League ",
          "Champions League ",
          "Champions League ",
          "Premier League ",
          "LaLiga ",
          "LaLiga ",
          "Champions League ",
          "Champions League ",
          "LaLiga ",
          "LaLiga ",
          "LaLiga ",
          "Champions League ",
          "Champions League ",
          "LaLiga ",
          "Champions League ",
          "Champions League ",
          "LaLiga ",
          "LaLiga ",
          "LaLiga ",
          "LaLiga ",
          "LaLiga ",
          "LaLiga ",
          "LaLiga ",
          "LaLiga ",
          "Champions League ",
          "LaLiga ",
          "LaLiga ",
          "LaLiga ",
          "LaLiga ",
          "LaLiga ",
          "LaLiga ",
          "LaLiga ",
          "LaLiga ",
          "LaLiga ",
          "LaLiga ",
          "LaLiga ",
          "LaLiga ",
          "LaLiga ",
          "LaLiga ",
          "LaLiga ",
          "LaLiga ",
          "LaLiga ",
          "Champions League ",
          "LaLiga ",
          "LaLiga ",
          "LaLiga ",
          "LaLiga ",
          "LaLiga ",
          "LaLiga ",
          "Copa del Rey ",
          "LaLiga ",
          "LaLiga ",
          "LaLiga ",
          "Champions League ",
          "Champions League ",
          "LaLiga ",
          "LaLiga ",
          "Champions League ",
          "LaLiga ",
          "Copa del Rey ",
          "Copa del Rey ",
          "Copa del Rey ",
          "LaLiga ",
          "LaLiga ",
          "LaLiga ",
          "LaLiga ",
          "LaLiga ",
          "Copa del Rey ",
          "Copa del Rey ",
          "LaLiga ",
          "LaLiga ",
          "LaLiga ",
          "LaLiga ",
          "LaLiga ",
          "Champions League ",
          "LaLiga ",
          "Champions League ",
          "LaLiga ",
          "Copa del Rey ",
          "LaLiga ",
          "LaLiga ",
          "LaLiga ",
          "LaLiga ",
          "LaLiga ",
          "LaLiga ",
          "LaLiga ",
          "LaLiga ",
          "LaLiga ",
          "LaLiga ",
          "LaLiga ",
          "Supercopa ",
          "LaLiga ",
          "LaLiga ",
          "LaLiga ",
          "LaLiga ",
          "LaLiga ",
          "LaLiga ",
          "LaLiga ",
          "Champions League ",
          "LaLiga ",
          "LaLiga ",
          "LaLiga ",
          "Champions League ",
          "Champions League ",
          "LaLiga ",
          "LaLiga ",
          "LaLiga ",
          "LaLiga ",
          "LaLiga ",
          "LaLiga ",
          "LaLiga ",
          "Copa del Rey ",
          "LaLiga ",
          "LaLiga ",
          "LaLiga ",
          "LaLiga ",
          "Copa del Rey ",
          "LaLiga ",
          "LaLiga ",
          "Copa del Rey ",
          "LaLiga ",
          "LaLiga ",
          "LaLiga ",
          "LaLiga ",
          "LaLiga ",
          "Champions League ",
          "LaLiga ",
          "LaLiga ",
          "LaLiga ",
          "LaLiga ",
          "Champions League ",
          "Champions League ",
          "LaLiga ",
          "LaLiga ",
          "LaLiga ",
          "LaLiga ",
          "LaLiga ",
          "Champions League ",
          "Champions League ",
          "LaLiga ",
          "LaLiga ",
          "LaLiga ",
          "LaLiga ",
          "LaLiga ",
          "Champions League ",
          "Champions League ",
          "LaLiga ",
          "LaLiga ",
          "LaLiga ",
          "LaLiga ",
          "Supercopa ",
          "Supercopa ",
          "LaLiga ",
          "LaLiga ",
          "Champions League ",
          "LaLiga ",
          "LaLiga ",
          "LaLiga ",
          "LaLiga ",
          "Champions League ",
          "Champions League ",
          "Champions League ",
          "LaLiga ",
          "LaLiga ",
          "LaLiga ",
          "Champions League ",
          "LaLiga ",
          "LaLiga ",
          "LaLiga ",
          "LaLiga ",
          "Champions League ",
          "Copa del Rey ",
          "LaLiga ",
          "LaLiga ",
          "LaLiga ",
          "Copa del Rey ",
          "Copa del Rey ",
          "Copa del Rey ",
          "LaLiga ",
          "LaLiga ",
          "LaLiga ",
          "LaLiga ",
          "LaLiga ",
          "LaLiga ",
          "LaLiga ",
          "LaLiga ",
          "Champions League ",
          "Copa del Rey ",
          "Copa del Rey ",
          "Champions League ",
          "LaLiga ",
          "LaLiga ",
          "LaLiga ",
          "LaLiga ",
          "Champions League ",
          "LaLiga ",
          "Champions League ",
          "Champions League ",
          "LaLiga ",
          "LaLiga ",
          "Champions League ",
          "LaLiga ",
          "LaLiga ",
          "LaLiga ",
          "Copa del Rey ",
          "LaLiga ",
          "LaLiga ",
          "Champions League ",
          "Champions League ",
          "Champions League ",
          "LaLiga ",
          "LaLiga ",
          "LaLiga ",
          "LaLiga ",
          "Champions League ",
          "Champions League ",
          "LaLiga ",
          "LaLiga ",
          "Champions League ",
          "Champions League ",
          "LaLiga ",
          "LaLiga ",
          "LaLiga ",
          "LaLiga ",
          "LaLiga ",
          "Champions League ",
          "LaLiga ",
          "LaLiga ",
          "LaLiga ",
          "LaLiga ",
          "Champions League ",
          "LaLiga ",
          "LaLiga ",
          "LaLiga ",
          "Copa del Rey ",
          "LaLiga ",
          "LaLiga ",
          "Copa del Rey ",
          "Copa del Rey ",
          "Champions League ",
          "Champions League ",
          "LaLiga ",
          "LaLiga ",
          "LaLiga ",
          "Champions League ",
          "Champions League ",
          "LaLiga ",
          "LaLiga ",
          "LaLiga ",
          "Champions League ",
          "LaLiga ",
          "LaLiga ",
          "Champions League ",
          "Champions League ",
          "LaLiga ",
          "Champions League ",
          "UEFA Super Cup ",
          "UEFA Super Cup ",
          "LaLiga ",
          "LaLiga ",
          "Champions League ",
          "LaLiga ",
          "LaLiga ",
          "LaLiga ",
          "LaLiga ",
          "LaLiga ",
          "LaLiga ",
          "LaLiga ",
          "LaLiga ",
          "Champions League ",
          "LaLiga ",
          "LaLiga ",
          "LaLiga ",
          "LaLiga ",
          "LaLiga ",
          "Champions League ",
          "LaLiga ",
          "LaLiga ",
          "LaLiga ",
          "LaLiga ",
          "LaLiga ",
          "Champions League ",
          "LaLiga ",
          "LaLiga ",
          "LaLiga ",
          "Champions League ",
          "LaLiga ",
          "LaLiga ",
          "LaLiga ",
          "Copa del Rey ",
          "LaLiga ",
          "LaLiga ",
          "Champions League ",
          "LaLiga ",
          "LaLiga ",
          "Champions League ",
          "Champions League ",
          "LaLiga ",
          "LaLiga ",
          "LaLiga ",
          "LaLiga ",
          "LaLiga ",
          "LaLiga ",
          "LaLiga ",
          "LaLiga ",
          "LaLiga ",
          "LaLiga ",
          "LaLiga ",
          "LaLiga ",
          "Champions League ",
          "Champions League ",
          "LaLiga ",
          "LaLiga ",
          "LaLiga ",
          "LaLiga ",
          "LaLiga ",
          "LaLiga ",
          "LaLiga ",
          "LaLiga ",
          "LaLiga ",
          "LaLiga ",
          "LaLiga ",
          "Champions League ",
          "Champions League ",
          "Champions League ",
          "Champions League ",
          "Champions League ",
          "LaLiga ",
          "LaLiga ",
          "LaLiga ",
          "Champions League ",
          "Champions League ",
          "LaLiga ",
          "LaLiga ",
          "Champions League ",
          "Champions League ",
          "Champions League ",
          "Champions League ",
          "LaLiga ",
          "LaLiga ",
          "LaLiga ",
          "LaLiga ",
          "LaLiga ",
          "LaLiga ",
          "LaLiga ",
          "LaLiga ",
          "LaLiga ",
          "LaLiga ",
          "LaLiga ",
          "Champions League ",
          "LaLiga ",
          "LaLiga ",
          "LaLiga ",
          "LaLiga ",
          "LaLiga ",
          "LaLiga ",
          "Champions League ",
          "LaLiga ",
          "LaLiga ",
          "LaLiga ",
          "Champions League ",
          "Champions League ",
          "Champions League ",
          "LaLiga ",
          "LaLiga ",
          "LaLiga ",
          "LaLiga ",
          "LaLiga ",
          "LaLiga ",
          "Champions League ",
          "Champions League ",
          "LaLiga ",
          "LaLiga ",
          "LaLiga ",
          "LaLiga ",
          "LaLiga ",
          "LaLiga ",
          "LaLiga ",
          "LaLiga ",
          "LaLiga ",
          "Club World Cup ",
          "Club World Cup ",
          "Club World Cup ",
          "Club World Cup ",
          "LaLiga ",
          "LaLiga ",
          "Copa del Rey ",
          "LaLiga ",
          "LaLiga ",
          "LaLiga ",
          "LaLiga ",
          "LaLiga ",
          "LaLiga ",
          "LaLiga ",
          "Champions League ",
          "Champions League ",
          "Champions League ",
          "Champions League ",
          "Champions League ",
          "LaLiga ",
          "Champions League ",
          "Champions League ",
          "Champions League ",
          "LaLiga ",
          "LaLiga ",
          "LaLiga ",
          "LaLiga ",
          "LaLiga ",
          "Champions League ",
          "Champions League ",
          "Supercopa ",
          "Champions League ",
          "Champions League ",
          "Champions League ",
          "Champions League ",
          "LaLiga ",
          "Champions League ",
          "Champions League ",
          "Champions League ",
          "Champions League ",
          "LaLiga ",
          "Champions League ",
          "LaLiga ",
          "LaLiga ",
          "Club World Cup ",
          "Club World Cup ",
          "LaLiga ",
          "LaLiga ",
          "LaLiga ",
          "LaLiga ",
          "LaLiga ",
          "LaLiga ",
          "LaLiga ",
          "Champions League ",
          "Champions League ",
          "LaLiga ",
          "LaLiga ",
          "LaLiga ",
          "LaLiga ",
          "LaLiga ",
          "Champions League ",
          "LaLiga ",
          "LaLiga ",
          "LaLiga ",
          "LaLiga ",
          "LaLiga ",
          "LaLiga ",
          "Champions League ",
          "Champions League ",
          "LaLiga ",
          "Champions League ",
          "LaLiga ",
          "LaLiga ",
          "LaLiga ",
          "Serie A ",
          "Serie A ",
          "Serie A ",
          "Serie A ",
          "Serie A ",
          "Serie A ",
          "Serie A ",
          "Champions League ",
          "Serie A ",
          "Serie A ",
          "Serie A ",
          "Serie A ",
          "Serie A ",
          "Serie A ",
          "Serie A ",
          "Supercoppa Italiana ",
          "Serie A ",
          "Serie A ",
          "Serie A ",
          "Serie A ",
          "Serie A ",
          "Champions League ",
          "Champions League ",
          "Champions League ",
          "Champions League ",
          "Champions League ",
          "Serie A ",
          "Serie A ",
          "Serie A ",
          "Serie A ",
          "Serie A ",
          "Champions League ",
          "Serie A ",
          "Serie A ",
          "Serie A ",
          "Serie A ",
          "Champions League ",
          "Serie A ",
          "Serie A ",
          "Serie A ",
          "Serie A ",
          "Serie A ",
          "Serie A ",
          "Serie A ",
          "Serie A ",
          "Serie A ",
          "Italy Cup ",
          "Serie A ",
          "Serie A ",
          "Serie A ",
          "Serie A ",
          "Italy Cup ",
          "Serie A ",
          "Serie A ",
          "Serie A ",
          "Serie A ",
          "Serie A ",
          "Serie A ",
          "Serie A ",
          "Serie A ",
          "Serie A ",
          "Serie A ",
          "Serie A ",
          "Champions League ",
          "Champions League ",
          "Serie A ",
          "Serie A ",
          "Serie A ",
          "Serie A ",
          "Serie A ",
          "Serie A ",
          "Serie A ",
          "Serie A ",
          "Champions League ",
          "Champions League ",
          "Champions League ",
          "Champions League ",
          "Serie A ",
          "Serie A ",
          "Serie A ",
          "Serie A ",
          "Serie A ",
          "Serie A ",
          "Serie A ",
          "Supercoppa Italiana ",
          "Italy Cup ",
          "Italy Cup ",
          "Serie A ",
          "Serie A ",
          "Serie A ",
          "Serie A ",
          "Serie A ",
          "Serie A ",
          "Serie A ",
          "Serie A ",
          "Serie A ",
          "Serie A ",
          "Serie A ",
          "Serie A ",
          "Serie A ",
          "Serie A ",
          "Premier League ",
          "Premier League ",
          "Champions League ",
          "Premier League ",
          "Champions League ",
          "Champions League ",
          "Premier League ",
          "Champions League ",
          "Champions League ",
          "Champions League ",
          "Premier League ",
          "Premier League ",
          "Premier League ",
          "Premier League ",
          "Premier League ",
          "Premier League ",
          "Premier League ",
          "Premier League ",
          "Premier League ",
          "Premier League ",
          "Premier League ",
          "Premier League ",
          "Premier League ",
          "Premier League ",
          "Europa League "
         ],
         "yaxis": "y"
        }
       ],
       "layout": {
        "barmode": "relative",
        "legend": {
         "tracegroupgap": 0
        },
        "margin": {
         "t": 60
        },
        "template": {
         "data": {
          "bar": [
           {
            "error_x": {
             "color": "#2a3f5f"
            },
            "error_y": {
             "color": "#2a3f5f"
            },
            "marker": {
             "line": {
              "color": "#E5ECF6",
              "width": 0.5
             },
             "pattern": {
              "fillmode": "overlay",
              "size": 10,
              "solidity": 0.2
             }
            },
            "type": "bar"
           }
          ],
          "barpolar": [
           {
            "marker": {
             "line": {
              "color": "#E5ECF6",
              "width": 0.5
             },
             "pattern": {
              "fillmode": "overlay",
              "size": 10,
              "solidity": 0.2
             }
            },
            "type": "barpolar"
           }
          ],
          "carpet": [
           {
            "aaxis": {
             "endlinecolor": "#2a3f5f",
             "gridcolor": "white",
             "linecolor": "white",
             "minorgridcolor": "white",
             "startlinecolor": "#2a3f5f"
            },
            "baxis": {
             "endlinecolor": "#2a3f5f",
             "gridcolor": "white",
             "linecolor": "white",
             "minorgridcolor": "white",
             "startlinecolor": "#2a3f5f"
            },
            "type": "carpet"
           }
          ],
          "choropleth": [
           {
            "colorbar": {
             "outlinewidth": 0,
             "ticks": ""
            },
            "type": "choropleth"
           }
          ],
          "contour": [
           {
            "colorbar": {
             "outlinewidth": 0,
             "ticks": ""
            },
            "colorscale": [
             [
              0,
              "#0d0887"
             ],
             [
              0.1111111111111111,
              "#46039f"
             ],
             [
              0.2222222222222222,
              "#7201a8"
             ],
             [
              0.3333333333333333,
              "#9c179e"
             ],
             [
              0.4444444444444444,
              "#bd3786"
             ],
             [
              0.5555555555555556,
              "#d8576b"
             ],
             [
              0.6666666666666666,
              "#ed7953"
             ],
             [
              0.7777777777777778,
              "#fb9f3a"
             ],
             [
              0.8888888888888888,
              "#fdca26"
             ],
             [
              1,
              "#f0f921"
             ]
            ],
            "type": "contour"
           }
          ],
          "contourcarpet": [
           {
            "colorbar": {
             "outlinewidth": 0,
             "ticks": ""
            },
            "type": "contourcarpet"
           }
          ],
          "heatmap": [
           {
            "colorbar": {
             "outlinewidth": 0,
             "ticks": ""
            },
            "colorscale": [
             [
              0,
              "#0d0887"
             ],
             [
              0.1111111111111111,
              "#46039f"
             ],
             [
              0.2222222222222222,
              "#7201a8"
             ],
             [
              0.3333333333333333,
              "#9c179e"
             ],
             [
              0.4444444444444444,
              "#bd3786"
             ],
             [
              0.5555555555555556,
              "#d8576b"
             ],
             [
              0.6666666666666666,
              "#ed7953"
             ],
             [
              0.7777777777777778,
              "#fb9f3a"
             ],
             [
              0.8888888888888888,
              "#fdca26"
             ],
             [
              1,
              "#f0f921"
             ]
            ],
            "type": "heatmap"
           }
          ],
          "heatmapgl": [
           {
            "colorbar": {
             "outlinewidth": 0,
             "ticks": ""
            },
            "colorscale": [
             [
              0,
              "#0d0887"
             ],
             [
              0.1111111111111111,
              "#46039f"
             ],
             [
              0.2222222222222222,
              "#7201a8"
             ],
             [
              0.3333333333333333,
              "#9c179e"
             ],
             [
              0.4444444444444444,
              "#bd3786"
             ],
             [
              0.5555555555555556,
              "#d8576b"
             ],
             [
              0.6666666666666666,
              "#ed7953"
             ],
             [
              0.7777777777777778,
              "#fb9f3a"
             ],
             [
              0.8888888888888888,
              "#fdca26"
             ],
             [
              1,
              "#f0f921"
             ]
            ],
            "type": "heatmapgl"
           }
          ],
          "histogram": [
           {
            "marker": {
             "pattern": {
              "fillmode": "overlay",
              "size": 10,
              "solidity": 0.2
             }
            },
            "type": "histogram"
           }
          ],
          "histogram2d": [
           {
            "colorbar": {
             "outlinewidth": 0,
             "ticks": ""
            },
            "colorscale": [
             [
              0,
              "#0d0887"
             ],
             [
              0.1111111111111111,
              "#46039f"
             ],
             [
              0.2222222222222222,
              "#7201a8"
             ],
             [
              0.3333333333333333,
              "#9c179e"
             ],
             [
              0.4444444444444444,
              "#bd3786"
             ],
             [
              0.5555555555555556,
              "#d8576b"
             ],
             [
              0.6666666666666666,
              "#ed7953"
             ],
             [
              0.7777777777777778,
              "#fb9f3a"
             ],
             [
              0.8888888888888888,
              "#fdca26"
             ],
             [
              1,
              "#f0f921"
             ]
            ],
            "type": "histogram2d"
           }
          ],
          "histogram2dcontour": [
           {
            "colorbar": {
             "outlinewidth": 0,
             "ticks": ""
            },
            "colorscale": [
             [
              0,
              "#0d0887"
             ],
             [
              0.1111111111111111,
              "#46039f"
             ],
             [
              0.2222222222222222,
              "#7201a8"
             ],
             [
              0.3333333333333333,
              "#9c179e"
             ],
             [
              0.4444444444444444,
              "#bd3786"
             ],
             [
              0.5555555555555556,
              "#d8576b"
             ],
             [
              0.6666666666666666,
              "#ed7953"
             ],
             [
              0.7777777777777778,
              "#fb9f3a"
             ],
             [
              0.8888888888888888,
              "#fdca26"
             ],
             [
              1,
              "#f0f921"
             ]
            ],
            "type": "histogram2dcontour"
           }
          ],
          "mesh3d": [
           {
            "colorbar": {
             "outlinewidth": 0,
             "ticks": ""
            },
            "type": "mesh3d"
           }
          ],
          "parcoords": [
           {
            "line": {
             "colorbar": {
              "outlinewidth": 0,
              "ticks": ""
             }
            },
            "type": "parcoords"
           }
          ],
          "pie": [
           {
            "automargin": true,
            "type": "pie"
           }
          ],
          "scatter": [
           {
            "marker": {
             "colorbar": {
              "outlinewidth": 0,
              "ticks": ""
             }
            },
            "type": "scatter"
           }
          ],
          "scatter3d": [
           {
            "line": {
             "colorbar": {
              "outlinewidth": 0,
              "ticks": ""
             }
            },
            "marker": {
             "colorbar": {
              "outlinewidth": 0,
              "ticks": ""
             }
            },
            "type": "scatter3d"
           }
          ],
          "scattercarpet": [
           {
            "marker": {
             "colorbar": {
              "outlinewidth": 0,
              "ticks": ""
             }
            },
            "type": "scattercarpet"
           }
          ],
          "scattergeo": [
           {
            "marker": {
             "colorbar": {
              "outlinewidth": 0,
              "ticks": ""
             }
            },
            "type": "scattergeo"
           }
          ],
          "scattergl": [
           {
            "marker": {
             "colorbar": {
              "outlinewidth": 0,
              "ticks": ""
             }
            },
            "type": "scattergl"
           }
          ],
          "scattermapbox": [
           {
            "marker": {
             "colorbar": {
              "outlinewidth": 0,
              "ticks": ""
             }
            },
            "type": "scattermapbox"
           }
          ],
          "scatterpolar": [
           {
            "marker": {
             "colorbar": {
              "outlinewidth": 0,
              "ticks": ""
             }
            },
            "type": "scatterpolar"
           }
          ],
          "scatterpolargl": [
           {
            "marker": {
             "colorbar": {
              "outlinewidth": 0,
              "ticks": ""
             }
            },
            "type": "scatterpolargl"
           }
          ],
          "scatterternary": [
           {
            "marker": {
             "colorbar": {
              "outlinewidth": 0,
              "ticks": ""
             }
            },
            "type": "scatterternary"
           }
          ],
          "surface": [
           {
            "colorbar": {
             "outlinewidth": 0,
             "ticks": ""
            },
            "colorscale": [
             [
              0,
              "#0d0887"
             ],
             [
              0.1111111111111111,
              "#46039f"
             ],
             [
              0.2222222222222222,
              "#7201a8"
             ],
             [
              0.3333333333333333,
              "#9c179e"
             ],
             [
              0.4444444444444444,
              "#bd3786"
             ],
             [
              0.5555555555555556,
              "#d8576b"
             ],
             [
              0.6666666666666666,
              "#ed7953"
             ],
             [
              0.7777777777777778,
              "#fb9f3a"
             ],
             [
              0.8888888888888888,
              "#fdca26"
             ],
             [
              1,
              "#f0f921"
             ]
            ],
            "type": "surface"
           }
          ],
          "table": [
           {
            "cells": {
             "fill": {
              "color": "#EBF0F8"
             },
             "line": {
              "color": "white"
             }
            },
            "header": {
             "fill": {
              "color": "#C8D4E3"
             },
             "line": {
              "color": "white"
             }
            },
            "type": "table"
           }
          ]
         },
         "layout": {
          "annotationdefaults": {
           "arrowcolor": "#2a3f5f",
           "arrowhead": 0,
           "arrowwidth": 1
          },
          "autotypenumbers": "strict",
          "coloraxis": {
           "colorbar": {
            "outlinewidth": 0,
            "ticks": ""
           }
          },
          "colorscale": {
           "diverging": [
            [
             0,
             "#8e0152"
            ],
            [
             0.1,
             "#c51b7d"
            ],
            [
             0.2,
             "#de77ae"
            ],
            [
             0.3,
             "#f1b6da"
            ],
            [
             0.4,
             "#fde0ef"
            ],
            [
             0.5,
             "#f7f7f7"
            ],
            [
             0.6,
             "#e6f5d0"
            ],
            [
             0.7,
             "#b8e186"
            ],
            [
             0.8,
             "#7fbc41"
            ],
            [
             0.9,
             "#4d9221"
            ],
            [
             1,
             "#276419"
            ]
           ],
           "sequential": [
            [
             0,
             "#0d0887"
            ],
            [
             0.1111111111111111,
             "#46039f"
            ],
            [
             0.2222222222222222,
             "#7201a8"
            ],
            [
             0.3333333333333333,
             "#9c179e"
            ],
            [
             0.4444444444444444,
             "#bd3786"
            ],
            [
             0.5555555555555556,
             "#d8576b"
            ],
            [
             0.6666666666666666,
             "#ed7953"
            ],
            [
             0.7777777777777778,
             "#fb9f3a"
            ],
            [
             0.8888888888888888,
             "#fdca26"
            ],
            [
             1,
             "#f0f921"
            ]
           ],
           "sequentialminus": [
            [
             0,
             "#0d0887"
            ],
            [
             0.1111111111111111,
             "#46039f"
            ],
            [
             0.2222222222222222,
             "#7201a8"
            ],
            [
             0.3333333333333333,
             "#9c179e"
            ],
            [
             0.4444444444444444,
             "#bd3786"
            ],
            [
             0.5555555555555556,
             "#d8576b"
            ],
            [
             0.6666666666666666,
             "#ed7953"
            ],
            [
             0.7777777777777778,
             "#fb9f3a"
            ],
            [
             0.8888888888888888,
             "#fdca26"
            ],
            [
             1,
             "#f0f921"
            ]
           ]
          },
          "colorway": [
           "#636efa",
           "#EF553B",
           "#00cc96",
           "#ab63fa",
           "#FFA15A",
           "#19d3f3",
           "#FF6692",
           "#B6E880",
           "#FF97FF",
           "#FECB52"
          ],
          "font": {
           "color": "#2a3f5f"
          },
          "geo": {
           "bgcolor": "white",
           "lakecolor": "white",
           "landcolor": "#E5ECF6",
           "showlakes": true,
           "showland": true,
           "subunitcolor": "white"
          },
          "hoverlabel": {
           "align": "left"
          },
          "hovermode": "closest",
          "mapbox": {
           "style": "light"
          },
          "paper_bgcolor": "white",
          "plot_bgcolor": "#E5ECF6",
          "polar": {
           "angularaxis": {
            "gridcolor": "white",
            "linecolor": "white",
            "ticks": ""
           },
           "bgcolor": "#E5ECF6",
           "radialaxis": {
            "gridcolor": "white",
            "linecolor": "white",
            "ticks": ""
           }
          },
          "scene": {
           "xaxis": {
            "backgroundcolor": "#E5ECF6",
            "gridcolor": "white",
            "gridwidth": 2,
            "linecolor": "white",
            "showbackground": true,
            "ticks": "",
            "zerolinecolor": "white"
           },
           "yaxis": {
            "backgroundcolor": "#E5ECF6",
            "gridcolor": "white",
            "gridwidth": 2,
            "linecolor": "white",
            "showbackground": true,
            "ticks": "",
            "zerolinecolor": "white"
           },
           "zaxis": {
            "backgroundcolor": "#E5ECF6",
            "gridcolor": "white",
            "gridwidth": 2,
            "linecolor": "white",
            "showbackground": true,
            "ticks": "",
            "zerolinecolor": "white"
           }
          },
          "shapedefaults": {
           "line": {
            "color": "#2a3f5f"
           }
          },
          "ternary": {
           "aaxis": {
            "gridcolor": "white",
            "linecolor": "white",
            "ticks": ""
           },
           "baxis": {
            "gridcolor": "white",
            "linecolor": "white",
            "ticks": ""
           },
           "bgcolor": "#E5ECF6",
           "caxis": {
            "gridcolor": "white",
            "linecolor": "white",
            "ticks": ""
           }
          },
          "title": {
           "x": 0.05
          },
          "xaxis": {
           "automargin": true,
           "gridcolor": "white",
           "linecolor": "white",
           "ticks": "",
           "title": {
            "standoff": 15
           },
           "zerolinecolor": "white",
           "zerolinewidth": 2
          },
          "yaxis": {
           "automargin": true,
           "gridcolor": "white",
           "linecolor": "white",
           "ticks": "",
           "title": {
            "standoff": 15
           },
           "zerolinecolor": "white",
           "zerolinewidth": 2
          }
         }
        },
        "xaxis": {
         "anchor": "y",
         "domain": [
          0,
          1
         ],
         "title": {
          "text": "Venue"
         }
        },
        "yaxis": {
         "anchor": "x",
         "domain": [
          0,
          1
         ],
         "title": {
          "text": "Tournament"
         }
        }
       }
      },
      "text/html": [
       "<div>                            <div id=\"1254eac0-6300-45fc-be69-3b97b37d670a\" class=\"plotly-graph-div\" style=\"height:525px; width:100%;\"></div>            <script type=\"text/javascript\">                require([\"plotly\"], function(Plotly) {                    window.PLOTLYENV=window.PLOTLYENV || {};                                    if (document.getElementById(\"1254eac0-6300-45fc-be69-3b97b37d670a\")) {                    Plotly.newPlot(                        \"1254eac0-6300-45fc-be69-3b97b37d670a\",                        [{\"alignmentgroup\":\"True\",\"hovertemplate\":\"Venue=%{x}<br>Tournament=%{y}<extra></extra>\",\"legendgroup\":\"\",\"marker\":{\"color\":\"#636efa\",\"pattern\":{\"shape\":\"\"}},\"name\":\"\",\"offsetgroup\":\"\",\"orientation\":\"v\",\"showlegend\":false,\"textposition\":\"auto\",\"x\":[\"Home\",\"Home\",\"Away\",\"Home\",\"Home\",\"Home\",\"Home\",\"Home\",\"Away\",\"Away\",\"Home\",\"Home\",\"Away\",\"Home\",\"Away\",\"Away\",\"Away\",\"Away\",\"Home\",\"Away\",\"Home\",\"Away\",\"Home\",\"Home\",\"Home\",\"Home\",\"Home\",\"Away\",\"Away\",\"Home\",\"Away\",\"Home\",\"Home\",\"Away\",\"Away\",\"Home\",\"Home\",\"Home\",\"Away\",\"Away\",\"Home\",\"Home\",\"Home\",\"Home\",\"Home\",\"Home\",\"Away\",\"Away\",\"Away\",\"Home\",\"Home\",\"Home\",\"Away\",\"Home\",\"Away\",\"Away\",\"Away\",\"Home\",\"Home\",\"Away\",\"Away\",\"Away\",\"Home\",\"Home\",\"Home\",\"Home\",\"Home\",\"Home\",\"Home\",\"Home\",\"Home\",\"Away\",\"Away\",\"Away\",\"Home\",\"Home\",\"Home\",\"Away\",\"Home\",\"Home\",\"Home\",\"Home\",\"Away\",\"Away\",\"Home\",\"Away\",\"Home\",\"Home\",\"Home\",\"Home\",\"Away\",\"Away\",\"Home\",\"Home\",\"Home\",\"Away\",\"Home\",\"Home\",\"Home\",\"Home\",\"Home\",\"Home\",\"Home\",\"Home\",\"Home\",\"Home\",\"Away\",\"Home\",\"Away\",\"Away\",\"Home\",\"Away\",\"Home\",\"Home\",\"Home\",\"Home\",\"Home\",\"Away\",\"Home\",\"Home\",\"Away\",\"Away\",\"Home\",\"Home\",\"Away\",\"Away\",\"Away\",\"Home\",\"Home\",\"Away\",\"Home\",\"Home\",\"Home\",\"Away\",\"Away\",\"Home\",\"Home\",\"Home\",\"Away\",\"Away\",\"Home\",\"Away\",\"Home\",\"Home\",\"Away\",\"Away\",\"Away\",\"Away\",\"Away\",\"Home\",\"Home\",\"Home\",\"Away\",\"Away\",\"Away\",\"Home\",\"Home\",\"Home\",\"Home\",\"Away\",\"Away\",\"Home\",\"Home\",\"Home\",\"Home\",\"Home\",\"Away\",\"Away\",\"Home\",\"Home\",\"Home\",\"Home\",\"Away\",\"Away\",\"Home\",\"Home\",\"Home\",\"Away\",\"Home\",\"Home\",\"Home\",\"Away\",\"Away\",\"Home\",\"Home\",\"Home\",\"Home\",\"Away\",\"Home\",\"Home\",\"Home\",\"Home\",\"Home\",\"Home\",\"Away\",\"Away\",\"Home\",\"Away\",\"Away\",\"Away\",\"Away\",\"Away\",\"Home\",\"Home\",\"Home\",\"Away\",\"Away\",\"Home\",\"Home\",\"Away\",\"Away\",\"Away\",\"Away\",\"Home\",\"Home\",\"Home\",\"Home\",\"Home\",\"Away\",\"Away\",\"Away\",\"Away\",\"Away\",\"Home\",\"Home\",\"Home\",\"Away\",\"Home\",\"Home\",\"Away\",\"Away\",\"Away\",\"Away\",\"Away\",\"Home\",\"Home\",\"Home\",\"Home\",\"Away\",\"Home\",\"Home\",\"Home\",\"Home\",\"Home\",\"Away\",\"Away\",\"Home\",\"Away\",\"Away\",\"Home\",\"Home\",\"Away\",\"Home\",\"Home\",\"Away\",\"Away\",\"Home\",\"Home\",\"Away\",\"Away\",\"Away\",\"Home\",\"Away\",\"Home\",\"Home\",\"Home\",\"Away\",\"Away\",\"Home\",\"Away\",\"Home\",\"Home\",\"Home\",\"Home\",\"Away\",\"Home\",\"Home\",\"Home\",\"Away\",\"Away\",\"Away\",\"Away\",\"Away\",\"Home\",\"Away\",\"Away\",\"Away\",\"Away\",\"Home\",\"Home\",\"Away\",\"Home\",\"Home\",\"Home\",\"Home\",\"Home\",\"Home\",\"Away\",\"Away\",\"Home\",\"Home\",\"Home\",\"Home\",\"Home\",\"Home\",\"Home\",\"Away\",\"Away\",\"Away\",\"Away\",\"Away\",\"Home\",\"Away\",\"Home\",\"Home\",\"Away\",\"Away\",\"Away\",\"Away\",\"Away\",\"Home\",\"Home\",\"Home\",\"Away\",\"Home\",\"Away\",\"Away\",\"Away\",\"Away\",\"Home\",\"Home\",\"Away\",\"Away\",\"Home\",\"Home\",\"Away\",\"Home\",\"Home\",\"Home\",\"Home\",\"Home\",\"Home\",\"Away\",\"Away\",\"Away\",\"Home\",\"Home\",\"Home\",\"Away\",\"Away\",\"Away\",\"Home\",\"Home\",\"Away\",\"Away\",\"Home\",\"Away\",\"Away\",\"Away\",\"Away\",\"Away\",\"Home\",\"Away\",\"Home\",\"Home\",\"Home\",\"Away\",\"Home\",\"Home\",\"Home\",\"Home\",\"Away\",\"Away\",\"Home\",\"Home\",\"Home\",\"Home\",\"Home\",\"Home\",\"Home\",\"Away\",\"Away\",\"Away\",\"Home\",\"Home\",\"Home\",\"Home\",\"Away\",\"Away\",\"Home\",\"Home\",\"Home\",\"Away\",\"Away\",\"Away\",\"Home\",\"Away\",\"Home\",\"Away\",\"Away\",\"Away\",\"Home\",\"Home\",\"Home\",\"Home\",\"Away\",\"Away\",\"Away\",\"Home\",\"Away\",\"Away\",\"Away\",\"Away\",\"Home\",\"Home\",\"Home\",\"Away\",\"Home\",\"Home\",\"Home\",\"Home\",\"Home\",\"Away\",\"Home\",\"Home\",\"Away\",\"Away\",\"Away\",\"Away\",\"Home\",\"Away\",\"Away\",\"Away\",\"Home\",\"Home\",\"Home\",\"Away\",\"Away\",\"Away\",\"Away\",\"Away\",\"Home\",\"Home\",\"Home\",\"Away\",\"Away\",\"Home\",\"Away\",\"Home\",\"Away\",\"Away\",\"Away\",\"Home\",\"Home\",\"Home\",\"Home\",\"Home\",\"Home\",\"Home\",\"Home\",\"Home\",\"Home\",\"Home\",\"Home\",\"Home\",\"Home\",\"Home\",\"Home\",\"Away\",\"Away\",\"Away\",\"Home\",\"Home\",\"Home\",\"Home\",\"Home\",\"Home\",\"Away\",\"Home\",\"Home\",\"Home\",\"Home\",\"Away\",\"Home\",\"Home\",\"Away\",\"Away\",\"Home\",\"Home\",\"Away\",\"Away\",\"Away\",\"Away\",\"Away\",\"Away\",\"Away\",\"Away\",\"Home\",\"Home\",\"Away\",\"Home\",\"Home\",\"Home\",\"Home\",\"Away\",\"Away\",\"Home\",\"Away\",\"Away\",\"Away\",\"Home\",\"Home\",\"Home\",\"Away\",\"Away\",\"Home\",\"Home\",\"Home\",\"Home\",\"Home\",\"Home\",\"Home\",\"Home\",\"Home\",\"Away\",\"Away\",\"Away\",\"Away\",\"Away\",\"Away\",\"Home\",\"Home\",\"Away\",\"Away\",\"Away\",\"Home\",\"Away\",\"Away\",\"Away\",\"Home\",\"Home\",\"Home\",\"Home\",\"Away\",\"Home\",\"Home\",\"Home\",\"Away\",\"Away\",\"Home\",\"Home\",\"Home\",\"Home\",\"Home\",\"Away\",\"Home\",\"Home\",\"Home\",\"Home\",\"Away\",\"Away\",\"Away\",\"Home\",\"Home\",\"Home\",\"Home\",\"Away\",\"Away\",\"Home\",\"Home\",\"Home\",\"Away\",\"Away\",\"Home\",\"Home\",\"Away\",\"Away\",\"Home\",\"Away\",\"Away\",\"Home\",\"Away\",\"Home\",\"Away\",\"Away\",\"Away\",\"Home\",\"Home\",\"Home\",\"Away\",\"Home\",\"Home\",\"Away\",\"Home\",\"Home\",\"Home\",\"Home\",\"Away\",\"Home\",\"Away\",\"Home\",\"Home\",\"Home\",\"Home\",\"Home\",\"Home\",\"Home\",\"Home\",\"Away\",\"Away\",\"Home\",\"Home\",\"Away\",\"Home\",\"Home\",\"Home\",\"Away\",\"Home\",\"Home\",\"Home\",\"Away\",\"Home\",\"Home\",\"Away\",\"Away\",\"Away\",\"Away\",\"Home\",\"Away\",\"Home\",\"Away\",\"Home\",\"Home\",\"Home\",\"Home\",\"Home\",\"Home\",\"Home\",\"Home\",\"Away\",\"Away\",\"Away\",\"Away\",\"Away\",\"Home\",\"Home\",\"Home\",\"Home\",\"Away\",\"Away\",\"Away\",\"Away\",\"Away\",\"Away\",\"Home\",\"Home\",\"Home\",\"Home\",\"Away\",\"Away\",\"Home\",\"Home\",\"Home\",\"Away\",\"Home\",\"Away\",\"Away\",\"Away\",\"Away\",\"Home\",\"Away\",\"Away\",\"Away\",\"Home\",\"Home\",\"Home\",\"Away\",\"Away\",\"Home\",\"Home\",\"Away\",\"Away\",\"Away\",\"Away\",\"Home\",\"Home\",\"Away\",\"Home\",\"Home\",\"Home\",\"Home\",\"Home\",\"Home\",\"Home\",\"Home\",\"Away\",\"Home\",\"Home\",\"Away\"],\"xaxis\":\"x\",\"y\":[\"Liga Portugal \",\"Liga Portugal \",\"Liga Portugal \",\"Ta\\u00e7a de Portugal \",\"Ta\\u00e7a de Portugal \",\"Premier League \",\"FA Cup \",\"Premier League \",\"Premier League \",\"Premier League \",\"FA Cup \",\"Premier League \",\"FA Cup \",\"Premier League \",\"Premier League \",\"Premier League \",\"FA Cup \",\"FA Cup \",\"Premier League \",\"FA Cup \",\"Champions League Qu. \",\"Premier League \",\"EFL Cup \",\"Premier League \",\"Premier League \",\"Premier League \",\"Premier League \",\"Premier League \",\"Premier League \",\"EFL Cup \",\"Premier League \",\"Premier League \",\"Premier League \",\"Premier League \",\"Premier League \",\"Premier League \",\"Premier League \",\"Premier League \",\"Premier League \",\"Premier League \",\"Premier League \",\"Premier League \",\"Premier League \",\"Premier League \",\"Premier League \",\"Premier League \",\"Premier League \",\"Premier League \",\"FA Cup \",\"FA Cup \",\"Champions League \",\"Champions League \",\"FA Cup \",\"Champions League \",\"Premier League \",\"Champions League \",\"Premier League \",\"Premier League \",\"Premier League \",\"Champions League \",\"Champions League \",\"Premier League \",\"Champions League \",\"Premier League \",\"Premier League \",\"Champions League \",\"Premier League \",\"Premier League \",\"Premier League \",\"Premier League \",\"Premier League \",\"Premier League \",\"Premier League \",\"FA Cup \",\"Premier League \",\"Premier League \",\"Premier League \",\"Premier League \",\"FA Cup \",\"FA Cup \",\"Premier League \",\"Premier League \",\"Premier League \",\"Premier League \",\"Champions League \",\"Premier League \",\"Premier League \",\"Premier League \",\"Premier League \",\"Premier League \",\"Champions League \",\"Premier League \",\"Premier League \",\"Premier League \",\"Premier League \",\"Premier League \",\"Champions League \",\"EFL Cup \",\"Premier League \",\"Premier League \",\"Premier League \",\"Premier League \",\"Premier League \",\"Premier League \",\"Premier League \",\"Premier League \",\"Club World Cup \",\"EFL Cup \",\"Premier League \",\"Premier League \",\"Premier League \",\"FA Cup \",\"Premier League \",\"Champions League \",\"Premier League \",\"Premier League \",\"Premier League \",\"Champions League \",\"Premier League \",\"Premier League \",\"Champions League \",\"Champions League \",\"Premier League \",\"LaLiga \",\"LaLiga \",\"Champions League \",\"Champions League \",\"LaLiga \",\"LaLiga \",\"LaLiga \",\"Champions League \",\"Champions League \",\"LaLiga \",\"Champions League \",\"Champions League \",\"LaLiga \",\"LaLiga \",\"LaLiga \",\"LaLiga \",\"LaLiga \",\"LaLiga \",\"LaLiga \",\"LaLiga \",\"Champions League \",\"LaLiga \",\"LaLiga \",\"LaLiga \",\"LaLiga \",\"LaLiga \",\"LaLiga \",\"LaLiga \",\"LaLiga \",\"LaLiga \",\"LaLiga \",\"LaLiga \",\"LaLiga \",\"LaLiga \",\"LaLiga \",\"LaLiga \",\"LaLiga \",\"LaLiga \",\"Champions League \",\"LaLiga \",\"LaLiga \",\"LaLiga \",\"LaLiga \",\"LaLiga \",\"LaLiga \",\"Copa del Rey \",\"LaLiga \",\"LaLiga \",\"LaLiga \",\"Champions League \",\"Champions League \",\"LaLiga \",\"LaLiga \",\"Champions League \",\"LaLiga \",\"Copa del Rey \",\"Copa del Rey \",\"Copa del Rey \",\"LaLiga \",\"LaLiga \",\"LaLiga \",\"LaLiga \",\"LaLiga \",\"Copa del Rey \",\"Copa del Rey \",\"LaLiga \",\"LaLiga \",\"LaLiga \",\"LaLiga \",\"LaLiga \",\"Champions League \",\"LaLiga \",\"Champions League \",\"LaLiga \",\"Copa del Rey \",\"LaLiga \",\"LaLiga \",\"LaLiga \",\"LaLiga \",\"LaLiga \",\"LaLiga \",\"LaLiga \",\"LaLiga \",\"LaLiga \",\"LaLiga \",\"LaLiga \",\"Supercopa \",\"LaLiga \",\"LaLiga \",\"LaLiga \",\"LaLiga \",\"LaLiga \",\"LaLiga \",\"LaLiga \",\"Champions League \",\"LaLiga \",\"LaLiga \",\"LaLiga \",\"Champions League \",\"Champions League \",\"LaLiga \",\"LaLiga \",\"LaLiga \",\"LaLiga \",\"LaLiga \",\"LaLiga \",\"LaLiga \",\"Copa del Rey \",\"LaLiga \",\"LaLiga \",\"LaLiga \",\"LaLiga \",\"Copa del Rey \",\"LaLiga \",\"LaLiga \",\"Copa del Rey \",\"LaLiga \",\"LaLiga \",\"LaLiga \",\"LaLiga \",\"LaLiga \",\"Champions League \",\"LaLiga \",\"LaLiga \",\"LaLiga \",\"LaLiga \",\"Champions League \",\"Champions League \",\"LaLiga \",\"LaLiga \",\"LaLiga \",\"LaLiga \",\"LaLiga \",\"Champions League \",\"Champions League \",\"LaLiga \",\"LaLiga \",\"LaLiga \",\"LaLiga \",\"LaLiga \",\"Champions League \",\"Champions League \",\"LaLiga \",\"LaLiga \",\"LaLiga \",\"LaLiga \",\"Supercopa \",\"Supercopa \",\"LaLiga \",\"LaLiga \",\"Champions League \",\"LaLiga \",\"LaLiga \",\"LaLiga \",\"LaLiga \",\"Champions League \",\"Champions League \",\"Champions League \",\"LaLiga \",\"LaLiga \",\"LaLiga \",\"Champions League \",\"LaLiga \",\"LaLiga \",\"LaLiga \",\"LaLiga \",\"Champions League \",\"Copa del Rey \",\"LaLiga \",\"LaLiga \",\"LaLiga \",\"Copa del Rey \",\"Copa del Rey \",\"Copa del Rey \",\"LaLiga \",\"LaLiga \",\"LaLiga \",\"LaLiga \",\"LaLiga \",\"LaLiga \",\"LaLiga \",\"LaLiga \",\"Champions League \",\"Copa del Rey \",\"Copa del Rey \",\"Champions League \",\"LaLiga \",\"LaLiga \",\"LaLiga \",\"LaLiga \",\"Champions League \",\"LaLiga \",\"Champions League \",\"Champions League \",\"LaLiga \",\"LaLiga \",\"Champions League \",\"LaLiga \",\"LaLiga \",\"LaLiga \",\"Copa del Rey \",\"LaLiga \",\"LaLiga \",\"Champions League \",\"Champions League \",\"Champions League \",\"LaLiga \",\"LaLiga \",\"LaLiga \",\"LaLiga \",\"Champions League \",\"Champions League \",\"LaLiga \",\"LaLiga \",\"Champions League \",\"Champions League \",\"LaLiga \",\"LaLiga \",\"LaLiga \",\"LaLiga \",\"LaLiga \",\"Champions League \",\"LaLiga \",\"LaLiga \",\"LaLiga \",\"LaLiga \",\"Champions League \",\"LaLiga \",\"LaLiga \",\"LaLiga \",\"Copa del Rey \",\"LaLiga \",\"LaLiga \",\"Copa del Rey \",\"Copa del Rey \",\"Champions League \",\"Champions League \",\"LaLiga \",\"LaLiga \",\"LaLiga \",\"Champions League \",\"Champions League \",\"LaLiga \",\"LaLiga \",\"LaLiga \",\"Champions League \",\"LaLiga \",\"LaLiga \",\"Champions League \",\"Champions League \",\"LaLiga \",\"Champions League \",\"UEFA Super Cup \",\"UEFA Super Cup \",\"LaLiga \",\"LaLiga \",\"Champions League \",\"LaLiga \",\"LaLiga \",\"LaLiga \",\"LaLiga \",\"LaLiga \",\"LaLiga \",\"LaLiga \",\"LaLiga \",\"Champions League \",\"LaLiga \",\"LaLiga \",\"LaLiga \",\"LaLiga \",\"LaLiga \",\"Champions League \",\"LaLiga \",\"LaLiga \",\"LaLiga \",\"LaLiga \",\"LaLiga \",\"Champions League \",\"LaLiga \",\"LaLiga \",\"LaLiga \",\"Champions League \",\"LaLiga \",\"LaLiga \",\"LaLiga \",\"Copa del Rey \",\"LaLiga \",\"LaLiga \",\"Champions League \",\"LaLiga \",\"LaLiga \",\"Champions League \",\"Champions League \",\"LaLiga \",\"LaLiga \",\"LaLiga \",\"LaLiga \",\"LaLiga \",\"LaLiga \",\"LaLiga \",\"LaLiga \",\"LaLiga \",\"LaLiga \",\"LaLiga \",\"LaLiga \",\"Champions League \",\"Champions League \",\"LaLiga \",\"LaLiga \",\"LaLiga \",\"LaLiga \",\"LaLiga \",\"LaLiga \",\"LaLiga \",\"LaLiga \",\"LaLiga \",\"LaLiga \",\"LaLiga \",\"Champions League \",\"Champions League \",\"Champions League \",\"Champions League \",\"Champions League \",\"LaLiga \",\"LaLiga \",\"LaLiga \",\"Champions League \",\"Champions League \",\"LaLiga \",\"LaLiga \",\"Champions League \",\"Champions League \",\"Champions League \",\"Champions League \",\"LaLiga \",\"LaLiga \",\"LaLiga \",\"LaLiga \",\"LaLiga \",\"LaLiga \",\"LaLiga \",\"LaLiga \",\"LaLiga \",\"LaLiga \",\"LaLiga \",\"Champions League \",\"LaLiga \",\"LaLiga \",\"LaLiga \",\"LaLiga \",\"LaLiga \",\"LaLiga \",\"Champions League \",\"LaLiga \",\"LaLiga \",\"LaLiga \",\"Champions League \",\"Champions League \",\"Champions League \",\"LaLiga \",\"LaLiga \",\"LaLiga \",\"LaLiga \",\"LaLiga \",\"LaLiga \",\"Champions League \",\"Champions League \",\"LaLiga \",\"LaLiga \",\"LaLiga \",\"LaLiga \",\"LaLiga \",\"LaLiga \",\"LaLiga \",\"LaLiga \",\"LaLiga \",\"Club World Cup \",\"Club World Cup \",\"Club World Cup \",\"Club World Cup \",\"LaLiga \",\"LaLiga \",\"Copa del Rey \",\"LaLiga \",\"LaLiga \",\"LaLiga \",\"LaLiga \",\"LaLiga \",\"LaLiga \",\"LaLiga \",\"Champions League \",\"Champions League \",\"Champions League \",\"Champions League \",\"Champions League \",\"LaLiga \",\"Champions League \",\"Champions League \",\"Champions League \",\"LaLiga \",\"LaLiga \",\"LaLiga \",\"LaLiga \",\"LaLiga \",\"Champions League \",\"Champions League \",\"Supercopa \",\"Champions League \",\"Champions League \",\"Champions League \",\"Champions League \",\"LaLiga \",\"Champions League \",\"Champions League \",\"Champions League \",\"Champions League \",\"LaLiga \",\"Champions League \",\"LaLiga \",\"LaLiga \",\"Club World Cup \",\"Club World Cup \",\"LaLiga \",\"LaLiga \",\"LaLiga \",\"LaLiga \",\"LaLiga \",\"LaLiga \",\"LaLiga \",\"Champions League \",\"Champions League \",\"LaLiga \",\"LaLiga \",\"LaLiga \",\"LaLiga \",\"LaLiga \",\"Champions League \",\"LaLiga \",\"LaLiga \",\"LaLiga \",\"LaLiga \",\"LaLiga \",\"LaLiga \",\"Champions League \",\"Champions League \",\"LaLiga \",\"Champions League \",\"LaLiga \",\"LaLiga \",\"LaLiga \",\"Serie A \",\"Serie A \",\"Serie A \",\"Serie A \",\"Serie A \",\"Serie A \",\"Serie A \",\"Champions League \",\"Serie A \",\"Serie A \",\"Serie A \",\"Serie A \",\"Serie A \",\"Serie A \",\"Serie A \",\"Supercoppa Italiana \",\"Serie A \",\"Serie A \",\"Serie A \",\"Serie A \",\"Serie A \",\"Champions League \",\"Champions League \",\"Champions League \",\"Champions League \",\"Champions League \",\"Serie A \",\"Serie A \",\"Serie A \",\"Serie A \",\"Serie A \",\"Champions League \",\"Serie A \",\"Serie A \",\"Serie A \",\"Serie A \",\"Champions League \",\"Serie A \",\"Serie A \",\"Serie A \",\"Serie A \",\"Serie A \",\"Serie A \",\"Serie A \",\"Serie A \",\"Serie A \",\"Italy Cup \",\"Serie A \",\"Serie A \",\"Serie A \",\"Serie A \",\"Italy Cup \",\"Serie A \",\"Serie A \",\"Serie A \",\"Serie A \",\"Serie A \",\"Serie A \",\"Serie A \",\"Serie A \",\"Serie A \",\"Serie A \",\"Serie A \",\"Champions League \",\"Champions League \",\"Serie A \",\"Serie A \",\"Serie A \",\"Serie A \",\"Serie A \",\"Serie A \",\"Serie A \",\"Serie A \",\"Champions League \",\"Champions League \",\"Champions League \",\"Champions League \",\"Serie A \",\"Serie A \",\"Serie A \",\"Serie A \",\"Serie A \",\"Serie A \",\"Serie A \",\"Supercoppa Italiana \",\"Italy Cup \",\"Italy Cup \",\"Serie A \",\"Serie A \",\"Serie A \",\"Serie A \",\"Serie A \",\"Serie A \",\"Serie A \",\"Serie A \",\"Serie A \",\"Serie A \",\"Serie A \",\"Serie A \",\"Serie A \",\"Serie A \",\"Premier League \",\"Premier League \",\"Champions League \",\"Premier League \",\"Champions League \",\"Champions League \",\"Premier League \",\"Champions League \",\"Champions League \",\"Champions League \",\"Premier League \",\"Premier League \",\"Premier League \",\"Premier League \",\"Premier League \",\"Premier League \",\"Premier League \",\"Premier League \",\"Premier League \",\"Premier League \",\"Premier League \",\"Premier League \",\"Premier League \",\"Premier League \",\"Europa League \"],\"yaxis\":\"y\",\"type\":\"bar\"}],                        {\"template\":{\"data\":{\"bar\":[{\"error_x\":{\"color\":\"#2a3f5f\"},\"error_y\":{\"color\":\"#2a3f5f\"},\"marker\":{\"line\":{\"color\":\"#E5ECF6\",\"width\":0.5},\"pattern\":{\"fillmode\":\"overlay\",\"size\":10,\"solidity\":0.2}},\"type\":\"bar\"}],\"barpolar\":[{\"marker\":{\"line\":{\"color\":\"#E5ECF6\",\"width\":0.5},\"pattern\":{\"fillmode\":\"overlay\",\"size\":10,\"solidity\":0.2}},\"type\":\"barpolar\"}],\"carpet\":[{\"aaxis\":{\"endlinecolor\":\"#2a3f5f\",\"gridcolor\":\"white\",\"linecolor\":\"white\",\"minorgridcolor\":\"white\",\"startlinecolor\":\"#2a3f5f\"},\"baxis\":{\"endlinecolor\":\"#2a3f5f\",\"gridcolor\":\"white\",\"linecolor\":\"white\",\"minorgridcolor\":\"white\",\"startlinecolor\":\"#2a3f5f\"},\"type\":\"carpet\"}],\"choropleth\":[{\"colorbar\":{\"outlinewidth\":0,\"ticks\":\"\"},\"type\":\"choropleth\"}],\"contour\":[{\"colorbar\":{\"outlinewidth\":0,\"ticks\":\"\"},\"colorscale\":[[0.0,\"#0d0887\"],[0.1111111111111111,\"#46039f\"],[0.2222222222222222,\"#7201a8\"],[0.3333333333333333,\"#9c179e\"],[0.4444444444444444,\"#bd3786\"],[0.5555555555555556,\"#d8576b\"],[0.6666666666666666,\"#ed7953\"],[0.7777777777777778,\"#fb9f3a\"],[0.8888888888888888,\"#fdca26\"],[1.0,\"#f0f921\"]],\"type\":\"contour\"}],\"contourcarpet\":[{\"colorbar\":{\"outlinewidth\":0,\"ticks\":\"\"},\"type\":\"contourcarpet\"}],\"heatmap\":[{\"colorbar\":{\"outlinewidth\":0,\"ticks\":\"\"},\"colorscale\":[[0.0,\"#0d0887\"],[0.1111111111111111,\"#46039f\"],[0.2222222222222222,\"#7201a8\"],[0.3333333333333333,\"#9c179e\"],[0.4444444444444444,\"#bd3786\"],[0.5555555555555556,\"#d8576b\"],[0.6666666666666666,\"#ed7953\"],[0.7777777777777778,\"#fb9f3a\"],[0.8888888888888888,\"#fdca26\"],[1.0,\"#f0f921\"]],\"type\":\"heatmap\"}],\"heatmapgl\":[{\"colorbar\":{\"outlinewidth\":0,\"ticks\":\"\"},\"colorscale\":[[0.0,\"#0d0887\"],[0.1111111111111111,\"#46039f\"],[0.2222222222222222,\"#7201a8\"],[0.3333333333333333,\"#9c179e\"],[0.4444444444444444,\"#bd3786\"],[0.5555555555555556,\"#d8576b\"],[0.6666666666666666,\"#ed7953\"],[0.7777777777777778,\"#fb9f3a\"],[0.8888888888888888,\"#fdca26\"],[1.0,\"#f0f921\"]],\"type\":\"heatmapgl\"}],\"histogram\":[{\"marker\":{\"pattern\":{\"fillmode\":\"overlay\",\"size\":10,\"solidity\":0.2}},\"type\":\"histogram\"}],\"histogram2d\":[{\"colorbar\":{\"outlinewidth\":0,\"ticks\":\"\"},\"colorscale\":[[0.0,\"#0d0887\"],[0.1111111111111111,\"#46039f\"],[0.2222222222222222,\"#7201a8\"],[0.3333333333333333,\"#9c179e\"],[0.4444444444444444,\"#bd3786\"],[0.5555555555555556,\"#d8576b\"],[0.6666666666666666,\"#ed7953\"],[0.7777777777777778,\"#fb9f3a\"],[0.8888888888888888,\"#fdca26\"],[1.0,\"#f0f921\"]],\"type\":\"histogram2d\"}],\"histogram2dcontour\":[{\"colorbar\":{\"outlinewidth\":0,\"ticks\":\"\"},\"colorscale\":[[0.0,\"#0d0887\"],[0.1111111111111111,\"#46039f\"],[0.2222222222222222,\"#7201a8\"],[0.3333333333333333,\"#9c179e\"],[0.4444444444444444,\"#bd3786\"],[0.5555555555555556,\"#d8576b\"],[0.6666666666666666,\"#ed7953\"],[0.7777777777777778,\"#fb9f3a\"],[0.8888888888888888,\"#fdca26\"],[1.0,\"#f0f921\"]],\"type\":\"histogram2dcontour\"}],\"mesh3d\":[{\"colorbar\":{\"outlinewidth\":0,\"ticks\":\"\"},\"type\":\"mesh3d\"}],\"parcoords\":[{\"line\":{\"colorbar\":{\"outlinewidth\":0,\"ticks\":\"\"}},\"type\":\"parcoords\"}],\"pie\":[{\"automargin\":true,\"type\":\"pie\"}],\"scatter\":[{\"marker\":{\"colorbar\":{\"outlinewidth\":0,\"ticks\":\"\"}},\"type\":\"scatter\"}],\"scatter3d\":[{\"line\":{\"colorbar\":{\"outlinewidth\":0,\"ticks\":\"\"}},\"marker\":{\"colorbar\":{\"outlinewidth\":0,\"ticks\":\"\"}},\"type\":\"scatter3d\"}],\"scattercarpet\":[{\"marker\":{\"colorbar\":{\"outlinewidth\":0,\"ticks\":\"\"}},\"type\":\"scattercarpet\"}],\"scattergeo\":[{\"marker\":{\"colorbar\":{\"outlinewidth\":0,\"ticks\":\"\"}},\"type\":\"scattergeo\"}],\"scattergl\":[{\"marker\":{\"colorbar\":{\"outlinewidth\":0,\"ticks\":\"\"}},\"type\":\"scattergl\"}],\"scattermapbox\":[{\"marker\":{\"colorbar\":{\"outlinewidth\":0,\"ticks\":\"\"}},\"type\":\"scattermapbox\"}],\"scatterpolar\":[{\"marker\":{\"colorbar\":{\"outlinewidth\":0,\"ticks\":\"\"}},\"type\":\"scatterpolar\"}],\"scatterpolargl\":[{\"marker\":{\"colorbar\":{\"outlinewidth\":0,\"ticks\":\"\"}},\"type\":\"scatterpolargl\"}],\"scatterternary\":[{\"marker\":{\"colorbar\":{\"outlinewidth\":0,\"ticks\":\"\"}},\"type\":\"scatterternary\"}],\"surface\":[{\"colorbar\":{\"outlinewidth\":0,\"ticks\":\"\"},\"colorscale\":[[0.0,\"#0d0887\"],[0.1111111111111111,\"#46039f\"],[0.2222222222222222,\"#7201a8\"],[0.3333333333333333,\"#9c179e\"],[0.4444444444444444,\"#bd3786\"],[0.5555555555555556,\"#d8576b\"],[0.6666666666666666,\"#ed7953\"],[0.7777777777777778,\"#fb9f3a\"],[0.8888888888888888,\"#fdca26\"],[1.0,\"#f0f921\"]],\"type\":\"surface\"}],\"table\":[{\"cells\":{\"fill\":{\"color\":\"#EBF0F8\"},\"line\":{\"color\":\"white\"}},\"header\":{\"fill\":{\"color\":\"#C8D4E3\"},\"line\":{\"color\":\"white\"}},\"type\":\"table\"}]},\"layout\":{\"annotationdefaults\":{\"arrowcolor\":\"#2a3f5f\",\"arrowhead\":0,\"arrowwidth\":1},\"autotypenumbers\":\"strict\",\"coloraxis\":{\"colorbar\":{\"outlinewidth\":0,\"ticks\":\"\"}},\"colorscale\":{\"diverging\":[[0,\"#8e0152\"],[0.1,\"#c51b7d\"],[0.2,\"#de77ae\"],[0.3,\"#f1b6da\"],[0.4,\"#fde0ef\"],[0.5,\"#f7f7f7\"],[0.6,\"#e6f5d0\"],[0.7,\"#b8e186\"],[0.8,\"#7fbc41\"],[0.9,\"#4d9221\"],[1,\"#276419\"]],\"sequential\":[[0.0,\"#0d0887\"],[0.1111111111111111,\"#46039f\"],[0.2222222222222222,\"#7201a8\"],[0.3333333333333333,\"#9c179e\"],[0.4444444444444444,\"#bd3786\"],[0.5555555555555556,\"#d8576b\"],[0.6666666666666666,\"#ed7953\"],[0.7777777777777778,\"#fb9f3a\"],[0.8888888888888888,\"#fdca26\"],[1.0,\"#f0f921\"]],\"sequentialminus\":[[0.0,\"#0d0887\"],[0.1111111111111111,\"#46039f\"],[0.2222222222222222,\"#7201a8\"],[0.3333333333333333,\"#9c179e\"],[0.4444444444444444,\"#bd3786\"],[0.5555555555555556,\"#d8576b\"],[0.6666666666666666,\"#ed7953\"],[0.7777777777777778,\"#fb9f3a\"],[0.8888888888888888,\"#fdca26\"],[1.0,\"#f0f921\"]]},\"colorway\":[\"#636efa\",\"#EF553B\",\"#00cc96\",\"#ab63fa\",\"#FFA15A\",\"#19d3f3\",\"#FF6692\",\"#B6E880\",\"#FF97FF\",\"#FECB52\"],\"font\":{\"color\":\"#2a3f5f\"},\"geo\":{\"bgcolor\":\"white\",\"lakecolor\":\"white\",\"landcolor\":\"#E5ECF6\",\"showlakes\":true,\"showland\":true,\"subunitcolor\":\"white\"},\"hoverlabel\":{\"align\":\"left\"},\"hovermode\":\"closest\",\"mapbox\":{\"style\":\"light\"},\"paper_bgcolor\":\"white\",\"plot_bgcolor\":\"#E5ECF6\",\"polar\":{\"angularaxis\":{\"gridcolor\":\"white\",\"linecolor\":\"white\",\"ticks\":\"\"},\"bgcolor\":\"#E5ECF6\",\"radialaxis\":{\"gridcolor\":\"white\",\"linecolor\":\"white\",\"ticks\":\"\"}},\"scene\":{\"xaxis\":{\"backgroundcolor\":\"#E5ECF6\",\"gridcolor\":\"white\",\"gridwidth\":2,\"linecolor\":\"white\",\"showbackground\":true,\"ticks\":\"\",\"zerolinecolor\":\"white\"},\"yaxis\":{\"backgroundcolor\":\"#E5ECF6\",\"gridcolor\":\"white\",\"gridwidth\":2,\"linecolor\":\"white\",\"showbackground\":true,\"ticks\":\"\",\"zerolinecolor\":\"white\"},\"zaxis\":{\"backgroundcolor\":\"#E5ECF6\",\"gridcolor\":\"white\",\"gridwidth\":2,\"linecolor\":\"white\",\"showbackground\":true,\"ticks\":\"\",\"zerolinecolor\":\"white\"}},\"shapedefaults\":{\"line\":{\"color\":\"#2a3f5f\"}},\"ternary\":{\"aaxis\":{\"gridcolor\":\"white\",\"linecolor\":\"white\",\"ticks\":\"\"},\"baxis\":{\"gridcolor\":\"white\",\"linecolor\":\"white\",\"ticks\":\"\"},\"bgcolor\":\"#E5ECF6\",\"caxis\":{\"gridcolor\":\"white\",\"linecolor\":\"white\",\"ticks\":\"\"}},\"title\":{\"x\":0.05},\"xaxis\":{\"automargin\":true,\"gridcolor\":\"white\",\"linecolor\":\"white\",\"ticks\":\"\",\"title\":{\"standoff\":15},\"zerolinecolor\":\"white\",\"zerolinewidth\":2},\"yaxis\":{\"automargin\":true,\"gridcolor\":\"white\",\"linecolor\":\"white\",\"ticks\":\"\",\"title\":{\"standoff\":15},\"zerolinecolor\":\"white\",\"zerolinewidth\":2}}},\"xaxis\":{\"anchor\":\"y\",\"domain\":[0.0,1.0],\"title\":{\"text\":\"Venue\"}},\"yaxis\":{\"anchor\":\"x\",\"domain\":[0.0,1.0],\"title\":{\"text\":\"Tournament\"}},\"legend\":{\"tracegroupgap\":0},\"margin\":{\"t\":60},\"barmode\":\"relative\"},                        {\"responsive\": true}                    ).then(function(){\n",
       "                            \n",
       "var gd = document.getElementById('1254eac0-6300-45fc-be69-3b97b37d670a');\n",
       "var x = new MutationObserver(function (mutations, observer) {{\n",
       "        var display = window.getComputedStyle(gd).display;\n",
       "        if (!display || display === 'none') {{\n",
       "            console.log([gd, 'removed!']);\n",
       "            Plotly.purge(gd);\n",
       "            observer.disconnect();\n",
       "        }}\n",
       "}});\n",
       "\n",
       "// Listen for the removal of the full notebook cells\n",
       "var notebookContainer = gd.closest('#notebook-container');\n",
       "if (notebookContainer) {{\n",
       "    x.observe(notebookContainer, {childList: true});\n",
       "}}\n",
       "\n",
       "// Listen for the clearing of the current output cell\n",
       "var outputEl = gd.closest('.output');\n",
       "if (outputEl) {{\n",
       "    x.observe(outputEl, {childList: true});\n",
       "}}\n",
       "\n",
       "                        })                };                });            </script>        </div>"
      ]
     },
     "metadata": {},
     "output_type": "display_data"
    }
   ],
   "source": []
  },
  {
   "cell_type": "code",
   "execution_count": null,
   "id": "888645ba",
   "metadata": {},
   "outputs": [],
   "source": []
  },
  {
   "cell_type": "code",
   "execution_count": null,
   "id": "09c0fe3e",
   "metadata": {},
   "outputs": [],
   "source": []
  }
 ],
 "metadata": {
  "kernelspec": {
   "display_name": "Python 3 (ipykernel)",
   "language": "python",
   "name": "python3"
  },
  "language_info": {
   "codemirror_mode": {
    "name": "ipython",
    "version": 3
   },
   "file_extension": ".py",
   "mimetype": "text/x-python",
   "name": "python",
   "nbconvert_exporter": "python",
   "pygments_lexer": "ipython3",
   "version": "3.9.12"
  }
 },
 "nbformat": 4,
 "nbformat_minor": 5
}
